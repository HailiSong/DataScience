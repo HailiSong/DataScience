{
 "cells": [
  {
   "cell_type": "markdown",
   "metadata": {},
   "source": [
    "# Best Time to Post for More Comments - Analyze Data from Technology Site HackerNews\n"
   ]
  },
  {
   "cell_type": "markdown",
   "metadata": {},
   "source": [
    "Hacker News is extrmely popular in technology and startup circles, where top posts on its can get hundreds of thousands of visitors. We want to find out what is the best time to post in order to get more attention. Data can be downloaded [here](https://www.kaggle.com/hacker-news/hacker-news-posts)\n",
    "\n",
    "Data structure:\n",
    "\n",
    "|columns | description|\n",
    "|--------| :------------|\n",
    "| title | title of the post (self explanatory) |\n",
    "| url | the url of the item being linked to |\n",
    "| num_points| the number of upvotes the post received|\n",
    "| num_comments| the number of comments the post received|\n",
    "| author | the name of the account that made the post|\n",
    "| create_at| the date and time the post was made(Eastern Time in the US)|"
   ]
  },
  {
   "cell_type": "markdown",
   "metadata": {},
   "source": [
    "Titles begin with \"Ask HN\": users ask the Hacker News community a specfic question.\n",
    "Titles begin with \"Show HN\": users show th Hacker News community a project, produce or just something interesting.\n",
    "We're interested in if these two types of posts receive more comments on average. We also want to know if posts created at a certain tiem receive more comments on average?"
   ]
  },
  {
   "cell_type": "code",
   "execution_count": 1,
   "metadata": {},
   "outputs": [],
   "source": [
    "import csv"
   ]
  },
  {
   "cell_type": "code",
   "execution_count": 2,
   "metadata": {},
   "outputs": [
    {
     "name": "stdout",
     "output_type": "stream",
     "text": [
      "['id', 'title', 'url', 'num_points', 'num_comments', 'author', 'created_at']\n",
      "['12579008', 'You have two days to comment if you want stem cells to be classified as your own', 'http://www.regulations.gov/document?D=FDA-2015-D-3719-0018', '1', '0', 'altstar', '9/26/2016 3:26']\n",
      "['12579005', 'SQLAR  the SQLite Archiver', 'https://www.sqlite.org/sqlar/doc/trunk/README.md', '1', '0', 'blacksqr', '9/26/2016 3:24']\n",
      "['12578997', 'What if we just printed a flatscreen television on the side of our boxes?', 'https://medium.com/vanmoof/our-secrets-out-f21c1f03fdc8#.ietxmez43', '1', '0', 'pavel_lishin', '9/26/2016 3:19']\n",
      "['12578989', 'algorithmic music', 'http://cacm.acm.org/magazines/2011/7/109891-algorithmic-composition/fulltext', '1', '0', 'poindontcare', '9/26/2016 3:16']\n"
     ]
    }
   ],
   "source": [
    "# open the file\n",
    "opened_file = open(\"HN_posts_year_to_Sep_26_2016.csv\")\n",
    "# read in the file\n",
    "read_file = csv.reader(opened_file)\n",
    "# conver to list\n",
    "hn = list(read_file)\n",
    "# display the first 5 rows\n",
    "for row in hn[:5]:\n",
    "    print(row)"
   ]
  },
  {
   "cell_type": "code",
   "execution_count": 3,
   "metadata": {},
   "outputs": [
    {
     "name": "stdout",
     "output_type": "stream",
     "text": [
      "['id', 'title', 'url', 'num_points', 'num_comments', 'author', 'created_at']\n",
      "[['12579008', 'You have two days to comment if you want stem cells to be classified as your own', 'http://www.regulations.gov/document?D=FDA-2015-D-3719-0018', '1', '0', 'altstar', '9/26/2016 3:26'], ['12579005', 'SQLAR  the SQLite Archiver', 'https://www.sqlite.org/sqlar/doc/trunk/README.md', '1', '0', 'blacksqr', '9/26/2016 3:24'], ['12578997', 'What if we just printed a flatscreen television on the side of our boxes?', 'https://medium.com/vanmoof/our-secrets-out-f21c1f03fdc8#.ietxmez43', '1', '0', 'pavel_lishin', '9/26/2016 3:19'], ['12578989', 'algorithmic music', 'http://cacm.acm.org/magazines/2011/7/109891-algorithmic-composition/fulltext', '1', '0', 'poindontcare', '9/26/2016 3:16'], ['12578979', 'How the Data Vault Enables the Next-Gen Data Warehouse and Data Lake', 'https://www.talend.com/blog/2016/05/12/talend-and-Â\\x93the-data-vaultÂ\\x94', '1', '0', 'markgainor1', '9/26/2016 3:14']]\n"
     ]
    }
   ],
   "source": [
    "# save the header\n",
    "header = hn[0]\n",
    "# remove the header row\n",
    "hn = hn[1:]\n",
    "# display the header\n",
    "print(header)\n",
    "# display the first 5 rows\n",
    "print(hn[:5])"
   ]
  },
  {
   "cell_type": "markdown",
   "metadata": {},
   "source": [
    "### Filter data"
   ]
  },
  {
   "cell_type": "markdown",
   "metadata": {},
   "source": [
    "**Create new lists of post with title begin with \"Ask HN\" or \"Show HN\"**"
   ]
  },
  {
   "cell_type": "code",
   "execution_count": 4,
   "metadata": {},
   "outputs": [],
   "source": [
    "# create 3 empty lists\n",
    "ask_posts = []\n",
    "show_posts = []\n",
    "other_posts = []"
   ]
  },
  {
   "cell_type": "code",
   "execution_count": 5,
   "metadata": {},
   "outputs": [],
   "source": [
    "# parse the data \n",
    "# and fill the lists accordingly\n",
    "for row in hn:\n",
    "    title = row[1]\n",
    "    title = title.lower()\n",
    "    if title.startswith('ask hn'):\n",
    "        ask_posts.append(row)\n",
    "    elif title.startswith('show hn'):\n",
    "        show_posts.append(row)\n",
    "    else:\n",
    "        other_posts.append(row)"
   ]
  },
  {
   "cell_type": "code",
   "execution_count": 6,
   "metadata": {},
   "outputs": [
    {
     "name": "stdout",
     "output_type": "stream",
     "text": [
      "9139\n",
      "10158\n",
      "273822\n"
     ]
    }
   ],
   "source": [
    "# check the number of posts\n",
    "print(len(ask_posts))\n",
    "print(len(show_posts))\n",
    "print(len(other_posts))"
   ]
  },
  {
   "cell_type": "markdown",
   "metadata": {},
   "source": [
    "### Determin if ask or show posts receive more comments on average"
   ]
  },
  {
   "cell_type": "markdown",
   "metadata": {},
   "source": [
    "**Find total number of the ask posts**"
   ]
  },
  {
   "cell_type": "code",
   "execution_count": 7,
   "metadata": {},
   "outputs": [
    {
     "name": "stdout",
     "output_type": "stream",
     "text": [
      "[['12578908', 'Ask HN: What TLD do you use for local development?', '', '4', '7', 'Sevrene', '9/26/2016 2:53'], ['12578522', 'Ask HN: How do you pass on your work when you die?', '', '6', '3', 'PascLeRasc', '9/26/2016 1:17']]\n"
     ]
    }
   ],
   "source": [
    "print(ask_posts[:2])"
   ]
  },
  {
   "cell_type": "code",
   "execution_count": 8,
   "metadata": {},
   "outputs": [],
   "source": [
    "total_ask_comments = 0\n",
    "for row in ask_posts:\n",
    "    # convert number of comments to integer\n",
    "    num_comments = int(row[4])\n",
    "    total_ask_comments += num_comments"
   ]
  },
  {
   "cell_type": "markdown",
   "metadata": {},
   "source": [
    "**Compute average comments of the ask posts**"
   ]
  },
  {
   "cell_type": "code",
   "execution_count": 9,
   "metadata": {},
   "outputs": [
    {
     "name": "stdout",
     "output_type": "stream",
     "text": [
      "10.393478498741656\n"
     ]
    }
   ],
   "source": [
    "avg_ask_comments = total_ask_comments/len(ask_posts)\n",
    "# display the average number of comments\n",
    "print(avg_ask_comments)"
   ]
  },
  {
   "cell_type": "markdown",
   "metadata": {},
   "source": [
    "**Find total number of the show posts**"
   ]
  },
  {
   "cell_type": "code",
   "execution_count": 10,
   "metadata": {},
   "outputs": [],
   "source": [
    "total_show_comemnts = 0\n",
    "for row in show_posts:\n",
    "    num_comments = int(row[4])\n",
    "    total_show_comemnts += num_comments"
   ]
  },
  {
   "cell_type": "markdown",
   "metadata": {},
   "source": [
    "**Compute average number of the show posts**"
   ]
  },
  {
   "cell_type": "code",
   "execution_count": 11,
   "metadata": {},
   "outputs": [
    {
     "name": "stdout",
     "output_type": "stream",
     "text": [
      "4.886099625910612\n"
     ]
    }
   ],
   "source": [
    "avg_show_comments = total_show_comemnts/len(show_posts)\n",
    "print(avg_show_comments)"
   ]
  },
  {
   "cell_type": "markdown",
   "metadata": {},
   "source": [
    "Summary: Ask posts receive more comments on average(~20), while the ask posts receive ~5 comments on acerage.\n",
    "\n",
    "------"
   ]
  },
  {
   "cell_type": "markdown",
   "metadata": {},
   "source": [
    "### Do posts created on certain time attract more comments?"
   ]
  },
  {
   "cell_type": "code",
   "execution_count": 12,
   "metadata": {},
   "outputs": [],
   "source": [
    "import datetime as dt"
   ]
  },
  {
   "cell_type": "code",
   "execution_count": 13,
   "metadata": {},
   "outputs": [
    {
     "name": "stdout",
     "output_type": "stream",
     "text": [
      "3\n"
     ]
    }
   ],
   "source": [
    "time = \"9/26/2016 3:16\"\n",
    "time = dt.datetime.strptime(time, \"%m/%d/%Y %H:%M\")\n",
    "time = time.strftime(\"%-H\")\n",
    "print(time)"
   ]
  },
  {
   "cell_type": "markdown",
   "metadata": {},
   "source": [
    "**Save post creating time and number of comments to a list**"
   ]
  },
  {
   "cell_type": "code",
   "execution_count": 14,
   "metadata": {},
   "outputs": [],
   "source": [
    "result_list = [] # list of lists\n",
    "for row in ask_posts:\n",
    "    # create a list of time and number of comments\n",
    "    time_and_number = []\n",
    "    # get post creation time\n",
    "    created_at = row[6]\n",
    "    # example of created time: 9/26/2016 3:16\n",
    "    #created_at = dt.strptime(created_at, \"%m/%d/%Y %H/%M\")\n",
    "    # get number of comments\n",
    "    n_comments = row[3]\n",
    "    # save the time and the number to the list\n",
    "    time_and_number.append(created_at)\n",
    "    time_and_number.append(n_comments)\n",
    "    # append the time and number list to the result list\n",
    "    result_list.append(time_and_number)"
   ]
  },
  {
   "cell_type": "code",
   "execution_count": 15,
   "metadata": {},
   "outputs": [
    {
     "name": "stdout",
     "output_type": "stream",
     "text": [
      "9139\n",
      "[['9/26/2016 2:53', '4'], ['9/26/2016 1:17', '6']]\n"
     ]
    }
   ],
   "source": [
    "# check the contents of the result_list\n",
    "print(len(result_list))\n",
    "print(result_list[:2])"
   ]
  },
  {
   "cell_type": "code",
   "execution_count": 16,
   "metadata": {},
   "outputs": [],
   "source": [
    "# Create two empty dictionaries\n",
    "counts_by_hour = {}\n",
    "comments_by_hour = {}"
   ]
  },
  {
   "cell_type": "code",
   "execution_count": 17,
   "metadata": {},
   "outputs": [],
   "source": [
    "for item in result_list:\n",
    "    # first element: date and time, e.g. 9/26/2016 2:53\n",
    "    date = item[0] \n",
    "    # parse date and create a datetime object for it\n",
    "    date = dt.datetime.strptime(date, \"%m/%d/%Y %H:%M\")\n",
    "    # extract the hour\n",
    "    hour = date.strftime(\"%-H\")\n",
    "    \n",
    "    # second element is number of comments\n",
    "    n_comments = float(item[1])\n",
    "    \n",
    "    # if the hour is not in the dictionary, \n",
    "    # create the key as hour and set it equal to 1\n",
    "    if hour not in counts_by_hour:\n",
    "        counts_by_hour[hour] = 1\n",
    "        comments_by_hour[hour] = n_comments\n",
    "    # if the hour already a key in counts_by_hour\n",
    "    # increment the value in counts_by_hour by 1\n",
    "    # increment the value in comments_by_hour by the coment number\n",
    "    else:\n",
    "        counts_by_hour[hour] += 1\n",
    "        comments_by_hour[hour] += n_comments"
   ]
  },
  {
   "cell_type": "markdown",
   "metadata": {},
   "source": [
    "### Calculate the average number of comments per hour"
   ]
  },
  {
   "cell_type": "code",
   "execution_count": 18,
   "metadata": {},
   "outputs": [
    {
     "name": "stdout",
     "output_type": "stream",
     "text": [
      "{'2': 269, '1': 282, '22': 383, '21': 518, '19': 552, '17': 587, '15': 646, '14': 513, '13': 444, '11': 312, '10': 282, '9': 222, '7': 226, '3': 271, '23': 343, '20': 510, '16': 579, '8': 257, '0': 301, '18': 614, '12': 342, '4': 243, '6': 234, '5': 209}\n"
     ]
    }
   ],
   "source": [
    "print(counts_by_hour)"
   ]
  },
  {
   "cell_type": "code",
   "execution_count": 19,
   "metadata": {},
   "outputs": [
    {
     "name": "stdout",
     "output_type": "stream",
     "text": [
      "{'2': 2944.0, '1': 2662.0, '22': 3601.0, '21': 5042.0, '19': 4782.0, '17': 7155.0, '15': 13978.0, '14': 5390.0, '13': 7962.0, '11': 2856.0, '10': 3789.0, '9': 1763.0, '7': 2040.0, '3': 2539.0, '23': 2616.0, '20': 4491.0, '16': 5970.0, '8': 2744.0, '0': 2835.0, '18': 6850.0, '12': 4643.0, '4': 2650.0, '6': 2030.0, '5': 2046.0}\n"
     ]
    }
   ],
   "source": [
    "print(comments_by_hour)"
   ]
  },
  {
   "cell_type": "code",
   "execution_count": 33,
   "metadata": {},
   "outputs": [],
   "source": [
    "# create an empty list of lists for result\n",
    "ave_by_hour = []\n",
    "for hour in comments_by_hour:\n",
    "    # creat an empty list\n",
    "    ave_hour = []\n",
    "    # append hour as the first element of list ave_hour\n",
    "    ave_hour.append(hour) \n",
    "    # calculate average\n",
    "    ave = float(comments_by_hour[hour])/float(counts_by_hour[hour])\n",
    "    #ave = round(ave)\n",
    "    \n",
    "    # append the average value \n",
    "    # as the second element of list ave_hour\n",
    "    ave_hour.append(ave)\n",
    "    \n",
    "    # append the list to ave_by_hour\n",
    "    ave_by_hour.append(ave_hour)"
   ]
  },
  {
   "cell_type": "code",
   "execution_count": 34,
   "metadata": {},
   "outputs": [
    {
     "name": "stdout",
     "output_type": "stream",
     "text": [
      "['2', 10.944237918215613]\n",
      "['1', 9.439716312056738]\n",
      "['22', 9.402088772845953]\n",
      "['21', 9.733590733590734]\n",
      "['19', 8.66304347826087]\n",
      "['17', 12.189097103918229]\n",
      "['15', 21.637770897832816]\n",
      "['14', 10.50682261208577]\n",
      "['13', 17.93243243243243]\n",
      "['11', 9.153846153846153]\n",
      "['10', 13.436170212765957]\n",
      "['9', 7.941441441441442]\n",
      "['7', 9.026548672566372]\n",
      "['3', 9.3690036900369]\n",
      "['23', 7.626822157434402]\n",
      "['20', 8.805882352941177]\n",
      "['16', 10.310880829015543]\n",
      "['8', 10.67704280155642]\n",
      "['0', 9.418604651162791]\n",
      "['18', 11.156351791530945]\n",
      "['12', 13.576023391812866]\n",
      "['4', 10.905349794238683]\n",
      "['6', 8.675213675213675]\n",
      "['5', 9.789473684210526]\n"
     ]
    }
   ],
   "source": [
    "# print average number of comments\n",
    "# per hour\n",
    "for item in ave_by_hour:\n",
    "    print(item)"
   ]
  },
  {
   "cell_type": "markdown",
   "metadata": {},
   "source": [
    "### Sort and print first few highest"
   ]
  },
  {
   "cell_type": "markdown",
   "metadata": {},
   "source": [
    "**Create a swap list of the ave_by_hour list:**"
   ]
  },
  {
   "cell_type": "code",
   "execution_count": 35,
   "metadata": {},
   "outputs": [],
   "source": [
    "swap_ave_by_hour= []\n",
    "for item in ave_by_hour:\n",
    "    swap_item = []\n",
    "    hour = item[0]\n",
    "    ave = item[1]\n",
    "    swap_item.append(ave)\n",
    "    swap_item.append(hour)\n",
    "    swap_ave_by_hour.append(swap_item)"
   ]
  },
  {
   "cell_type": "code",
   "execution_count": 36,
   "metadata": {},
   "outputs": [
    {
     "name": "stdout",
     "output_type": "stream",
     "text": [
      "[[10.944237918215613, '2'], [9.439716312056738, '1'], [9.402088772845953, '22'], [9.733590733590734, '21'], [8.66304347826087, '19'], [12.189097103918229, '17'], [21.637770897832816, '15'], [10.50682261208577, '14'], [17.93243243243243, '13'], [9.153846153846153, '11'], [13.436170212765957, '10'], [7.941441441441442, '9'], [9.026548672566372, '7'], [9.3690036900369, '3'], [7.626822157434402, '23'], [8.805882352941177, '20'], [10.310880829015543, '16'], [10.67704280155642, '8'], [9.418604651162791, '0'], [11.156351791530945, '18'], [13.576023391812866, '12'], [10.905349794238683, '4'], [8.675213675213675, '6'], [9.789473684210526, '5']]\n"
     ]
    }
   ],
   "source": [
    "print(swap_ave_by_hour)"
   ]
  },
  {
   "cell_type": "markdown",
   "metadata": {},
   "source": [
    "**Sort the swap list**"
   ]
  },
  {
   "cell_type": "code",
   "execution_count": 37,
   "metadata": {},
   "outputs": [
    {
     "name": "stdout",
     "output_type": "stream",
     "text": [
      "[[21.637770897832816, '15'], [17.93243243243243, '13'], [13.576023391812866, '12'], [13.436170212765957, '10'], [12.189097103918229, '17'], [11.156351791530945, '18'], [10.944237918215613, '2'], [10.905349794238683, '4'], [10.67704280155642, '8'], [10.50682261208577, '14'], [10.310880829015543, '16'], [9.789473684210526, '5'], [9.733590733590734, '21'], [9.439716312056738, '1'], [9.418604651162791, '0'], [9.402088772845953, '22'], [9.3690036900369, '3'], [9.153846153846153, '11'], [9.026548672566372, '7'], [8.805882352941177, '20'], [8.675213675213675, '6'], [8.66304347826087, '19'], [7.941441441441442, '9'], [7.626822157434402, '23']]\n"
     ]
    }
   ],
   "source": [
    "sorted_swap = sorted(swap_ave_by_hour, reverse=True)\n",
    "print(sorted_swap)"
   ]
  },
  {
   "cell_type": "code",
   "execution_count": 38,
   "metadata": {},
   "outputs": [
    {
     "name": "stdout",
     "output_type": "stream",
     "text": [
      "[21.637770897832816, '15']\n",
      "[17.93243243243243, '13']\n",
      "[13.576023391812866, '12']\n",
      "[13.436170212765957, '10']\n",
      "[12.189097103918229, '17']\n"
     ]
    }
   ],
   "source": [
    "for item in sorted_swap[:5]:\n",
    "    print(item)"
   ]
  },
  {
   "cell_type": "markdown",
   "metadata": {},
   "source": [
    "**Format and display**"
   ]
  },
  {
   "cell_type": "code",
   "execution_count": 46,
   "metadata": {},
   "outputs": [
    {
     "name": "stdout",
     "output_type": "stream",
     "text": [
      "15:00: 21.64 average comments per post\n",
      "13:00: 17.93 average comments per post\n",
      "12:00: 13.58 average comments per post\n",
      "10:00: 13.44 average comments per post\n",
      "17:00: 12.19 average comments per post\n"
     ]
    }
   ],
   "source": [
    "template = \"{}: {:.2f} average comments per post\"\n",
    "for item in sorted_swap[:5]:\n",
    "    hour = item[1]\n",
    "    hour = dt.datetime.strptime(hour, \"%H\")\n",
    "    hour = hour.strftime(\"%H:%M\")\n",
    "    ave = item[0]\n",
    "    print(template.format(hour, ave))"
   ]
  },
  {
   "cell_type": "markdown",
   "metadata": {},
   "source": [
    "Summary: In order to get a higer chance of receiving comments, posts are better to becreated in the afternoon, especially around 3p.m."
   ]
  }
 ],
 "metadata": {
  "kernelspec": {
   "display_name": "Python 3",
   "language": "python",
   "name": "python3"
  },
  "language_info": {
   "codemirror_mode": {
    "name": "ipython",
    "version": 3
   },
   "file_extension": ".py",
   "mimetype": "text/x-python",
   "name": "python",
   "nbconvert_exporter": "python",
   "pygments_lexer": "ipython3",
   "version": "3.7.4"
  }
 },
 "nbformat": 4,
 "nbformat_minor": 2
}
