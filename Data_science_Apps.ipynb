{
 "cells": [
  {
   "cell_type": "markdown",
   "metadata": {},
   "source": [
    "# Popular Apps to Investigate - Analyze Data from Google Play and App Store\n",
    "（This is a learning project based on dataquest [Link](https://www.dataquest.io/)）\n",
    "\n",
    "The aim of the project is to find out what kind of apps are likely to attract more users on Google Play and the App Store. The result can be used to help decide what kind of apps to investigate.\n",
    "\n",
    "Two data sets are used here:\n",
    "1. Data about ~10,000 Android apps from Google Play that was collected in Aug. 2018. [Link](https://dq-content.s3.amazonaws.com/350/googleplaystore.csv)\n",
    "2. Data about ~7,000 iOS apps from the App Store that was collected in July 2017. [Link](https://dq-content.s3.amazonaws.com/350/AppleStore.csv)"
   ]
  },
  {
   "cell_type": "markdown",
   "metadata": {},
   "source": [
    "### Defining function to explore data\n",
    "This function takes 4 parameters:\n",
    "- The dataset (a list of lists) to explore\n",
    "- The start and end row view\n",
    "- A variable indicating if print the size (number of rows and number of columns) of the data set"
   ]
  },
  {
   "cell_type": "code",
   "execution_count": 1,
   "metadata": {},
   "outputs": [],
   "source": [
    "from csv import reader"
   ]
  },
  {
   "cell_type": "code",
   "execution_count": 2,
   "metadata": {},
   "outputs": [],
   "source": [
    "def explore_data(dataset, start, end, rows_and_columns=False):\n",
    "    dataset_slice = dataset[start:end] # slice the dataset\n",
    "    for row in dataset_slice:\n",
    "        print(row)\n",
    "        print('\\n') # adds a new (empty) line after each row\n",
    "        \n",
    "        if rows_and_columns:\n",
    "            print('Number of rows:', len(dataset))\n",
    "            print('Number of columns:', len(dataset[0]))"
   ]
  },
  {
   "cell_type": "markdown",
   "metadata": {},
   "source": [
    "### Read in the data"
   ]
  },
  {
   "cell_type": "code",
   "execution_count": 4,
   "metadata": {},
   "outputs": [],
   "source": [
    "# Data from the App Store\n",
    "opened_file_apple = open('AppleStore.csv', encoding='utf8')\n",
    "apps_data_apple = list(reader(opened_file_apple))\n",
    "apple_header = apps_data_apple[0] # save the header\n",
    "apps_data_apple = apps_data_apple[1:] # save as list without header\n",
    "\n",
    "# Data from Google Play\n",
    "opened_file_google = open('googleplaystore.csv', encoding = 'utf8')\n",
    "apps_data_google = list(reader(opened_file_google))\n",
    "google_header = apps_data_google[0]\n",
    "apps_data_google = apps_data_google[1:]"
   ]
  },
  {
   "cell_type": "markdown",
   "metadata": {},
   "source": [
    "### Explore data"
   ]
  },
  {
   "cell_type": "code",
   "execution_count": 5,
   "metadata": {},
   "outputs": [
    {
     "name": "stdout",
     "output_type": "stream",
     "text": [
      "Columns of data from apple store:\n",
      "['id', 'track_name', 'size_bytes', 'currency', 'price', 'rating_count_tot', 'rating_count_ver', 'user_rating', 'user_rating_ver', 'ver', 'cont_rating', 'prime_genre', 'sup_devices.num', 'ipadSc_urls.num', 'lang.num', 'vpp_lic']\n",
      "\n",
      "['284882215', 'Facebook', '389879808', 'USD', '0.0', '2974676', '212', '3.5', '3.5', '95.0', '4+', 'Social Networking', '37', '1', '29', '1']\n",
      "\n",
      "\n",
      "Number of rows: 7197\n",
      "Number of columns: 16\n",
      "['389801252', 'Instagram', '113954816', 'USD', '0.0', '2161558', '1289', '4.5', '4.0', '10.23', '12+', 'Photo & Video', '37', '0', '29', '1']\n",
      "\n",
      "\n",
      "Number of rows: 7197\n",
      "Number of columns: 16\n",
      "---------------\n",
      "Columns of data from Goolge Play:\n",
      "['App', 'Category', 'Rating', 'Reviews', 'Size', 'Installs', 'Type', 'Price', 'Content Rating', 'Genres', 'Last Updated', 'Current Ver', 'Android Ver']\n",
      "\n",
      "['Photo Editor & Candy Camera & Grid & ScrapBook', 'ART_AND_DESIGN', '4.1', '159', '19M', '10,000+', 'Free', '0', 'Everyone', 'Art & Design', 'January 7, 2018', '1.0.0', '4.0.3 and up']\n",
      "\n",
      "\n",
      "Number of rows: 10841\n",
      "Number of columns: 13\n",
      "['Coloring book moana', 'ART_AND_DESIGN', '3.9', '967', '14M', '500,000+', 'Free', '0', 'Everyone', 'Art & Design;Pretend Play', 'January 15, 2018', '2.0.0', '4.0.3 and up']\n",
      "\n",
      "\n",
      "Number of rows: 10841\n",
      "Number of columns: 13\n"
     ]
    }
   ],
   "source": [
    "# Explore data of both dataset\n",
    "# Show number of rows and number of columns\n",
    "# View first 2 lines of each dataset\n",
    "print('Columns of data from apple store:\\n' + str(apple_header) + '\\n')\n",
    "explore_data(apps_data_apple, 0, 2, True)\n",
    "print('---------------')\n",
    "print('Columns of data from Goolge Play:\\n' + str(google_header) + '\\n')\n",
    "explore_data(apps_data_google, 0, 2, True)"
   ]
  },
  {
   "cell_type": "markdown",
   "metadata": {},
   "source": [
    "### Data cleaning - Remove inaccurate data"
   ]
  },
  {
   "cell_type": "code",
   "execution_count": 15,
   "metadata": {},
   "outputs": [],
   "source": [
    "def missing_data(dataset):\n",
    "    n_columns = len(dataset[1])\n",
    "    for row in dataset:\n",
    "        if len(row) != n_columns:\n",
    "            print('This row has missing data: ' + str(dataset.index(row)) + ':')\n",
    "            print(row)\n"
   ]
  },
  {
   "cell_type": "code",
   "execution_count": 16,
   "metadata": {},
   "outputs": [
    {
     "name": "stdout",
     "output_type": "stream",
     "text": [
      "Check data set from the App Store.\n",
      "Check data set from Google Play\n",
      "This row has missing data: 10472:\n",
      "['Life Made WI-Fi Touchscreen Photo Frame', '1.9', '19', '3.0M', '1,000+', 'Free', '0', 'Everyone', '', 'February 11, 2018', '1.0.19', '4.0 and up']\n"
     ]
    }
   ],
   "source": [
    "# Check if the data set from the App Store has missing data.\n",
    "print('Check data set from the App Store.')\n",
    "missing_data(apps_data_apple)\n",
    "# Check if the data set from Google Play has missing data.\n",
    "print('Check data set from Google Play')\n",
    "missing_data(apps_data_google)"
   ]
  },
  {
   "cell_type": "code",
   "execution_count": 17,
   "metadata": {},
   "outputs": [
    {
     "name": "stdout",
     "output_type": "stream",
     "text": [
      "['Life Made WI-Fi Touchscreen Photo Frame', '1.9', '19', '3.0M', '1,000+', 'Free', '0', 'Everyone', '', 'February 11, 2018', '1.0.19', '4.0 and up']\n"
     ]
    }
   ],
   "source": [
    "print(apps_data_google[10472])"
   ]
  },
  {
   "cell_type": "code",
   "execution_count": 18,
   "metadata": {},
   "outputs": [],
   "source": [
    "# The 'Category' of this app is missing ,\n",
    "# delete this line, but run the line below multiple times, \n",
    "# otherwise useful data will be deleted.\n",
    "# del apps_data_google[10472]"
   ]
  },
  {
   "cell_type": "markdown",
   "metadata": {},
   "source": [
    "### Data cleaning - Remove duplicate data\n",
    "1. Check for duplicates in the datasets"
   ]
  },
  {
   "cell_type": "code",
   "execution_count": 24,
   "metadata": {},
   "outputs": [],
   "source": [
    "def check_duplicates(dataset):\n",
    "    duplicate_apps = [] # list for duplicated app names\n",
    "    unique_apps = [] # list for unique app names\n",
    "    # find duplicate app name\n",
    "    for app in dataset:\n",
    "        name = app[0]\n",
    "        if name in unique_apps:\n",
    "            duplicate_apps.append(name)\n",
    "        else:\n",
    "            unique_apps.append(name)\n",
    "    # print an example of duplicate app entry in the data\n",
    "    if len(duplicate_apps) == 0: # check if list of duplicates is empty\n",
    "        print(\"There is no duplicated apps.\")\n",
    "    else: # if there are some duplicates, print the first one as example\n",
    "        print(\"There are \"+str(len(duplicate_apps)) + \" duplicated apps.\")\n",
    "        print(\"Here is one example:\")\n",
    "        for app in dataset:\n",
    "            name = app[0]\n",
    "            if name == duplicate_apps[0]:\n",
    "                print(app)"
   ]
  },
  {
   "cell_type": "code",
   "execution_count": 27,
   "metadata": {},
   "outputs": [
    {
     "name": "stdout",
     "output_type": "stream",
     "text": [
      "Google Play data:\n",
      "There are 1181 duplicated apps.\n",
      "Here is one example:\n",
      "['Quick PDF Scanner + OCR FREE', 'BUSINESS', '4.2', '80805', 'Varies with device', '5,000,000+', 'Free', '0', 'Everyone', 'Business', 'February 26, 2018', 'Varies with device', '4.0.3 and up']\n",
      "['Quick PDF Scanner + OCR FREE', 'BUSINESS', '4.2', '80805', 'Varies with device', '5,000,000+', 'Free', '0', 'Everyone', 'Business', 'February 26, 2018', 'Varies with device', '4.0.3 and up']\n",
      "['Quick PDF Scanner + OCR FREE', 'BUSINESS', '4.2', '80804', 'Varies with device', '5,000,000+', 'Free', '0', 'Everyone', 'Business', 'February 26, 2018', 'Varies with device', '4.0.3 and up']\n",
      "\n",
      "App Store data:\n",
      "There is no duplicated apps.\n"
     ]
    }
   ],
   "source": [
    "# check the android apps\n",
    "print('Google Play data:')\n",
    "check_duplicates(apps_data_google)\n",
    "# check the apple apps\n",
    "print('\\nApp Store data:')\n",
    "check_duplicates(apps_data_apple)"
   ]
  },
  {
   "cell_type": "code",
   "execution_count": 28,
   "metadata": {},
   "outputs": [
    {
     "name": "stdout",
     "output_type": "stream",
     "text": [
      "9659\n"
     ]
    }
   ],
   "source": [
    "print(len(apps_data_google)-1181) # print the number of entries after removing duplicates"
   ]
  },
  {
   "cell_type": "markdown",
   "metadata": {},
   "source": [
    "### Data cleaning - Remove duplicates from the Google Play data set\n",
    "For each duplicated apps, keep the latest one (the one with max reviews) and remove others.\n",
    "\n",
    "First, create a dictionary of app name and it's max reivews"
   ]
  },
  {
   "cell_type": "code",
   "execution_count": 29,
   "metadata": {},
   "outputs": [
    {
     "name": "stdout",
     "output_type": "stream",
     "text": [
      "9659\n"
     ]
    }
   ],
   "source": [
    "reviews_max = {} # dictory name and max reviews\n",
    "for app in apps_data_google:\n",
    "    name = app[0]\n",
    "    n_reviews = float(app[3])\n",
    "    if name in reviews_max and reviews_max[name] < n_reviews:\n",
    "        reviews_max[name] = n_reviews\n",
    "    if name not in reviews_max:\n",
    "        reviews_max[name] = n_reviews\n",
    "print(len(reviews_max))"
   ]
  },
  {
   "cell_type": "markdown",
   "metadata": {},
   "source": [
    "Use the dictionary created above and two lists to remove duplicated data"
   ]
  },
  {
   "cell_type": "code",
   "execution_count": 34,
   "metadata": {},
   "outputs": [
    {
     "name": "stdout",
     "output_type": "stream",
     "text": [
      "9659\n"
     ]
    }
   ],
   "source": [
    "android_clean = []\n",
    "already_added = []\n",
    "# loop through the android data \n",
    "for app in apps_data_google:\n",
    "    name = app[0]\n",
    "    n_reviews = float(app[3])\n",
    "    if n_reviews == reviews_max[name] and name not in already_added:\n",
    "        android_clean.append(app)\n",
    "        already_added.append(name)\n",
    "print(len(android_clean))"
   ]
  },
  {
   "cell_type": "markdown",
   "metadata": {},
   "source": [
    "### Remove non-English apps\n",
    "1. Define a function to detect non-English character in the app name, and if there are more than 3 non-English character, return False, which means this app is a non-English app."
   ]
  },
  {
   "cell_type": "code",
   "execution_count": 30,
   "metadata": {},
   "outputs": [],
   "source": [
    "def englishCharacter(string):\n",
    "    non_english = 0\n",
    "    for character in string:\n",
    "        if ord(character) > 127:\n",
    "            non_english +=1\n",
    "            if non_english > 3:\n",
    "                return False\n",
    "    return True"
   ]
  },
  {
   "cell_type": "markdown",
   "metadata": {},
   "source": [
    "Check the englishCharacter function."
   ]
  },
  {
   "cell_type": "code",
   "execution_count": 33,
   "metadata": {},
   "outputs": [
    {
     "name": "stdout",
     "output_type": "stream",
     "text": [
      "True\n",
      "False\n",
      "True\n",
      "True\n"
     ]
    }
   ],
   "source": [
    "print(englishCharacter('Instagram'))\n",
    "print(englishCharacter('爱奇艺PPS -《欢乐颂2》电视剧热播'))\n",
    "print(englishCharacter('Docs To Go™ Free Office Suite'))\n",
    "print(englishCharacter('Instachat 😜'))"
   ]
  },
  {
   "cell_type": "markdown",
   "metadata": {},
   "source": [
    "2. Use the function to loop through the lists and keep only the English apps."
   ]
  },
  {
   "cell_type": "code",
   "execution_count": 31,
   "metadata": {},
   "outputs": [
    {
     "name": "stdout",
     "output_type": "stream",
     "text": [
      "7197\n"
     ]
    }
   ],
   "source": [
    "apple_English = []\n",
    "for app in apps_data_apple:\n",
    "    name = app[0]\n",
    "    isEnglishApp = englishCharacter(name)\n",
    "    if isEnglishApp:\n",
    "        apple_English.append(app)\n",
    "print(len(apple_English))"
   ]
  },
  {
   "cell_type": "code",
   "execution_count": 35,
   "metadata": {},
   "outputs": [
    {
     "name": "stdout",
     "output_type": "stream",
     "text": [
      "9614\n"
     ]
    }
   ],
   "source": [
    "android_English = []\n",
    "for app in android_clean:\n",
    "    name = app[0]\n",
    "    isEnglishApp = englishCharacter(name)\n",
    "    if isEnglishApp:\n",
    "        android_English.append(app)\n",
    "print(len(android_English))"
   ]
  },
  {
   "cell_type": "markdown",
   "metadata": {},
   "source": [
    "### Isolate and keep free apps only"
   ]
  },
  {
   "cell_type": "code",
   "execution_count": 39,
   "metadata": {},
   "outputs": [
    {
     "name": "stdout",
     "output_type": "stream",
     "text": [
      "4056\n"
     ]
    }
   ],
   "source": [
    "apple_Free_apps = []\n",
    "for app in apple_English:\n",
    "    price = float(app[4])\n",
    "    if price == 0.0: # price of 0 indicating free apps\n",
    "        apple_Free_apps.append(app)\n",
    "        \n",
    "print(len(apple_Free_apps))"
   ]
  },
  {
   "cell_type": "code",
   "execution_count": 40,
   "metadata": {},
   "outputs": [
    {
     "name": "stdout",
     "output_type": "stream",
     "text": [
      "8863\n"
     ]
    }
   ],
   "source": [
    "android_free_apps = []\n",
    "for app in android_English:\n",
    "    type = app[6]\n",
    "    if type == 'Free': # apps labeled as free\n",
    "        android_free_apps.append(app)\n",
    "        \n",
    "print(len(android_free_apps))"
   ]
  },
  {
   "cell_type": "markdown",
   "metadata": {},
   "source": [
    "### Analyze data - which genre has most apps\n",
    "We need to build a frequency table for the prime_gene column of the App Store data set, and for the Genres and Category columns of the Google Play dataset. \n",
    "We'll build two functions we can use to analyze the frequency tables:\n",
    "* One function to generate frequency talbles that show percentages\n",
    "* Another function we can sue to display the percentages in a descending order"
   ]
  },
  {
   "cell_type": "code",
   "execution_count": 41,
   "metadata": {},
   "outputs": [],
   "source": [
    "def freq_table(dataset, index):\n",
    "    frequency_table = {}\n",
    "    for app in dataset:\n",
    "        value = app[index]\n",
    "        if value in frequency_table:\n",
    "            frequency_table[value] += 1\n",
    "        else:\n",
    "            frequency_table[value] =1\n",
    "    return frequency_table"
   ]
  },
  {
   "cell_type": "code",
   "execution_count": 42,
   "metadata": {},
   "outputs": [],
   "source": [
    "def display_table(dataset, index):\n",
    "    table = freq_table(dataset, index)\n",
    "    table_display = []\n",
    "    for key in table:\n",
    "        key_val_as_tuple = (table[key], key)\n",
    "        table_display.append(key_val_as_tuple)\n",
    "    table_sorted = sorted(table_display, reverse=True)\n",
    "    for entry in table_sorted:\n",
    "        print(entry[1], ':', entry[0])"
   ]
  },
  {
   "cell_type": "code",
   "execution_count": 43,
   "metadata": {},
   "outputs": [
    {
     "name": "stdout",
     "output_type": "stream",
     "text": [
      "Games : 2257\n",
      "Entertainment : 334\n",
      "Photo & Video : 167\n",
      "Social Networking : 143\n",
      "Education : 132\n",
      "Shopping : 121\n",
      "Utilities : 109\n",
      "Lifestyle : 94\n",
      "Finance : 84\n",
      "Sports : 79\n",
      "Health & Fitness : 76\n",
      "Music : 67\n",
      "Book : 66\n",
      "Productivity : 62\n",
      "News : 58\n",
      "Travel : 56\n",
      "Food & Drink : 43\n",
      "Weather : 31\n",
      "Reference : 20\n",
      "Navigation : 20\n",
      "Business : 20\n",
      "Catalogs : 9\n",
      "Medical : 8\n"
     ]
    }
   ],
   "source": [
    "display_table(apple_Free_apps, 11)\n",
    "# entainment apps are most popular in App Store"
   ]
  },
  {
   "cell_type": "code",
   "execution_count": 44,
   "metadata": {
    "scrolled": false
   },
   "outputs": [
    {
     "name": "stdout",
     "output_type": "stream",
     "text": [
      "Tools : 749\n",
      "Entertainment : 538\n",
      "Education : 474\n",
      "Business : 407\n",
      "Productivity : 345\n",
      "Lifestyle : 345\n",
      "Finance : 328\n",
      "Medical : 313\n",
      "Sports : 307\n",
      "Personalization : 294\n",
      "Communication : 287\n",
      "Action : 275\n",
      "Health & Fitness : 273\n",
      "Photography : 261\n",
      "News & Magazines : 248\n",
      "Social : 236\n",
      "Travel & Local : 206\n",
      "Shopping : 199\n",
      "Books & Reference : 190\n",
      "Simulation : 181\n",
      "Dating : 165\n",
      "Arcade : 164\n",
      "Video Players & Editors : 157\n",
      "Casual : 156\n",
      "Maps & Navigation : 124\n",
      "Food & Drink : 110\n",
      "Puzzle : 100\n",
      "Racing : 88\n",
      "Role Playing : 83\n",
      "Libraries & Demo : 83\n",
      "Auto & Vehicles : 82\n",
      "Strategy : 80\n",
      "House & Home : 73\n",
      "Weather : 71\n",
      "Events : 63\n",
      "Adventure : 60\n",
      "Comics : 54\n",
      "Beauty : 53\n",
      "Art & Design : 53\n",
      "Parenting : 44\n",
      "Card : 40\n",
      "Casino : 38\n",
      "Trivia : 37\n",
      "Educational;Education : 35\n",
      "Board : 34\n",
      "Educational : 33\n",
      "Education;Education : 30\n",
      "Word : 23\n",
      "Casual;Pretend Play : 21\n",
      "Music : 18\n",
      "Racing;Action & Adventure : 15\n",
      "Puzzle;Brain Games : 15\n",
      "Entertainment;Music & Video : 15\n",
      "Casual;Brain Games : 12\n",
      "Casual;Action & Adventure : 12\n",
      "Arcade;Action & Adventure : 11\n",
      "Action;Action & Adventure : 9\n",
      "Educational;Pretend Play : 8\n",
      "Simulation;Action & Adventure : 7\n",
      "Parenting;Education : 7\n",
      "Entertainment;Brain Games : 7\n",
      "Board;Brain Games : 7\n",
      "Parenting;Music & Video : 6\n",
      "Educational;Brain Games : 6\n",
      "Casual;Creativity : 6\n",
      "Art & Design;Creativity : 6\n",
      "Education;Pretend Play : 5\n",
      "Role Playing;Pretend Play : 4\n",
      "Education;Creativity : 4\n",
      "Role Playing;Action & Adventure : 3\n",
      "Puzzle;Action & Adventure : 3\n",
      "Entertainment;Creativity : 3\n",
      "Entertainment;Action & Adventure : 3\n",
      "Educational;Creativity : 3\n",
      "Educational;Action & Adventure : 3\n",
      "Education;Music & Video : 3\n",
      "Education;Brain Games : 3\n",
      "Education;Action & Adventure : 3\n",
      "Adventure;Action & Adventure : 3\n",
      "Video Players & Editors;Music & Video : 2\n",
      "Sports;Action & Adventure : 2\n",
      "Simulation;Pretend Play : 2\n",
      "Puzzle;Creativity : 2\n",
      "Music;Music & Video : 2\n",
      "Entertainment;Pretend Play : 2\n",
      "Casual;Education : 2\n",
      "Board;Action & Adventure : 2\n",
      "Video Players & Editors;Creativity : 1\n",
      "Trivia;Education : 1\n",
      "Travel & Local;Action & Adventure : 1\n",
      "Tools;Education : 1\n",
      "Strategy;Education : 1\n",
      "Strategy;Creativity : 1\n",
      "Strategy;Action & Adventure : 1\n",
      "Simulation;Education : 1\n",
      "Role Playing;Brain Games : 1\n",
      "Racing;Pretend Play : 1\n",
      "Puzzle;Education : 1\n",
      "Parenting;Brain Games : 1\n",
      "Music & Audio;Music & Video : 1\n",
      "Lifestyle;Pretend Play : 1\n",
      "Lifestyle;Education : 1\n",
      "Health & Fitness;Education : 1\n",
      "Health & Fitness;Action & Adventure : 1\n",
      "Entertainment;Education : 1\n",
      "Communication;Creativity : 1\n",
      "Comics;Creativity : 1\n",
      "Casual;Music & Video : 1\n",
      "Card;Action & Adventure : 1\n",
      "Books & Reference;Education : 1\n",
      "Art & Design;Pretend Play : 1\n",
      "Art & Design;Action & Adventure : 1\n",
      "Arcade;Pretend Play : 1\n",
      "Adventure;Education : 1\n"
     ]
    }
   ],
   "source": [
    "display_table(android_free_apps, 9)\n",
    "# data below show that practical ools is the most common genre, and Entertinment is the second\n",
    "# These data suggests "
   ]
  },
  {
   "cell_type": "code",
   "execution_count": 45,
   "metadata": {},
   "outputs": [
    {
     "name": "stdout",
     "output_type": "stream",
     "text": [
      "FAMILY : 1675\n",
      "GAME : 862\n",
      "TOOLS : 750\n",
      "BUSINESS : 407\n",
      "LIFESTYLE : 346\n",
      "PRODUCTIVITY : 345\n",
      "FINANCE : 328\n",
      "MEDICAL : 313\n",
      "SPORTS : 301\n",
      "PERSONALIZATION : 294\n",
      "COMMUNICATION : 287\n",
      "HEALTH_AND_FITNESS : 273\n",
      "PHOTOGRAPHY : 261\n",
      "NEWS_AND_MAGAZINES : 248\n",
      "SOCIAL : 236\n",
      "TRAVEL_AND_LOCAL : 207\n",
      "SHOPPING : 199\n",
      "BOOKS_AND_REFERENCE : 190\n",
      "DATING : 165\n",
      "VIDEO_PLAYERS : 159\n",
      "MAPS_AND_NAVIGATION : 124\n",
      "FOOD_AND_DRINK : 110\n",
      "EDUCATION : 103\n",
      "ENTERTAINMENT : 85\n",
      "LIBRARIES_AND_DEMO : 83\n",
      "AUTO_AND_VEHICLES : 82\n",
      "HOUSE_AND_HOME : 73\n",
      "WEATHER : 71\n",
      "EVENTS : 63\n",
      "PARENTING : 58\n",
      "ART_AND_DESIGN : 57\n",
      "COMICS : 55\n",
      "BEAUTY : 53\n"
     ]
    }
   ],
   "source": [
    "display_table(android_free_apps, 1)"
   ]
  },
  {
   "cell_type": "code",
   "execution_count": 46,
   "metadata": {},
   "outputs": [],
   "source": [
    "apple_genre_ft = freq_table(apple_Free_apps,11)\n"
   ]
  },
  {
   "cell_type": "markdown",
   "metadata": {},
   "source": [
    "### Which type of app attract most users?"
   ]
  },
  {
   "cell_type": "code",
   "execution_count": 47,
   "metadata": {},
   "outputs": [
    {
     "name": "stdout",
     "output_type": "stream",
     "text": [
      "Social Networking : 53078\n",
      "Photo & Video : 27250\n",
      "Games : 18925\n",
      "Music : 56482\n",
      "Reference : 67448\n",
      "Health & Fitness : 19952\n",
      "Weather : 47221\n",
      "Utilities : 14010\n",
      "Travel : 20216\n",
      "Shopping : 18747\n",
      "News : 15893\n",
      "Navigation : 25972\n",
      "Lifestyle : 8978\n",
      "Entertainment : 10823\n",
      "Food & Drink : 20179\n",
      "Sports : 20129\n",
      "Book : 8498\n",
      "Finance : 13522\n",
      "Education : 6266\n",
      "Productivity : 19054\n",
      "Business : 6368\n",
      "Catalogs : 1780\n",
      "Medical : 460\n"
     ]
    }
   ],
   "source": [
    "for genre in apple_genre_ft:\n",
    "    total = 0\n",
    "    genre_len = 0\n",
    "    for app in apple_Free_apps:\n",
    "        if app[11] == genre:\n",
    "            rating_count_tot = int(app[5])\n",
    "            total = total + rating_count_tot\n",
    "            genre_len += 1\n",
    "    print(genre,\":\", round(total/genre_len))"
   ]
  },
  {
   "cell_type": "code",
   "execution_count": 48,
   "metadata": {},
   "outputs": [
    {
     "name": "stdout",
     "output_type": "stream",
     "text": [
      "ART_AND_DESIGN : 1986335\n",
      "AUTO_AND_VEHICLES : 647318\n",
      "BEAUTY : 513152\n",
      "BOOKS_AND_REFERENCE : 8767812\n",
      "BUSINESS : 1712290\n",
      "COMICS : 817657\n",
      "COMMUNICATION : 38456119\n",
      "DATING : 854029\n",
      "EDUCATION : 1833495\n",
      "ENTERTAINMENT : 11640706\n",
      "EVENTS : 253542\n",
      "FINANCE : 1387692\n",
      "FOOD_AND_DRINK : 1924898\n",
      "HEALTH_AND_FITNESS : 4188822\n",
      "HOUSE_AND_HOME : 1331541\n",
      "LIBRARIES_AND_DEMO : 638504\n",
      "LIFESTYLE : 1437816\n",
      "GAME : 15588016\n",
      "FAMILY : 3697848\n",
      "MEDICAL : 120551\n",
      "SOCIAL : 23253652\n",
      "SHOPPING : 7036877\n",
      "PHOTOGRAPHY : 17840110\n",
      "SPORTS : 3638640\n",
      "TRAVEL_AND_LOCAL : 13984078\n",
      "TOOLS : 10801391\n",
      "PERSONALIZATION : 5201483\n",
      "PRODUCTIVITY : 16787331\n",
      "PARENTING : 542604\n",
      "WEATHER : 5074486\n",
      "VIDEO_PLAYERS : 24727872\n",
      "NEWS_AND_MAGAZINES : 9549178\n",
      "MAPS_AND_NAVIGATION : 4056942\n"
     ]
    }
   ],
   "source": [
    "android_category_ft = freq_table(android_English,1)\n",
    "for genre in android_category_ft:\n",
    "    total = 0\n",
    "    genre_len = 0\n",
    "    for app in android_free_apps:\n",
    "        if app[1] == genre:\n",
    "            installation = app[5]\n",
    "            installation = float(installation.replace('+','').replace(',',''))\n",
    "            total = total + installation\n",
    "            genre_len += 1\n",
    "    print(genre,\":\",round(total/genre_len))"
   ]
  }
 ],
 "metadata": {
  "celltoolbar": "Raw Cell Format",
  "kernelspec": {
   "display_name": "Python 3",
   "language": "python",
   "name": "python3"
  },
  "language_info": {
   "codemirror_mode": {
    "name": "ipython",
    "version": 3
   },
   "file_extension": ".py",
   "mimetype": "text/x-python",
   "name": "python",
   "nbconvert_exporter": "python",
   "pygments_lexer": "ipython3",
   "version": "3.7.4"
  }
 },
 "nbformat": 4,
 "nbformat_minor": 2
}
